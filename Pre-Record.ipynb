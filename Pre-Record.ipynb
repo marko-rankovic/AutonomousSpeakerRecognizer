{
 "cells": [
  {
   "cell_type": "code",
   "execution_count": 1,
   "metadata": {
    "collapsed": false
   },
   "outputs": [],
   "source": [
    "import speech_recognition as sr\n",
    "\n",
    "recognizer = sr.Recognizer()\n",
    "mic = sr.Microphone()"
   ]
  },
  {
   "cell_type": "code",
   "execution_count": 2,
   "metadata": {
    "collapsed": false
   },
   "outputs": [
    {
     "name": "stdout",
     "output_type": "stream",
     "text": [
      "Adjusting mic...\n",
      "Now you can talk\n",
      "Detecting what you said...\n"
     ]
    }
   ],
   "source": [
    "for i in range(0, 40):\n",
    "    with mic as source:\n",
    "        print(\"Adjusting mic...\")\n",
    "        recognizer.adjust_for_ambient_noise(mic, 3)\n",
    "        print(\"Say water\")\n",
    "        audio = recognizer.listen(mic, 2, 2.5)\n",
    "        file = open('data/personal_{0}.wav'.format(i),'wb')\n",
    "        file.write(audio.get_wav_data())\n",
    "        file.close()\n",
    "        print(\"All good\")"
   ]
  },
  {
   "cell_type": "code",
   "execution_count": 5,
   "metadata": {
    "collapsed": false
   },
   "outputs": [],
   "source": []
  }
 ],
 "metadata": {
  "kernelspec": {
   "display_name": "Python 3",
   "language": "python",
   "name": "python3"
  },
  "language_info": {
   "codemirror_mode": {
    "name": "ipython",
    "version": 3
   },
   "file_extension": ".py",
   "mimetype": "text/x-python",
   "name": "python",
   "nbconvert_exporter": "python",
   "pygments_lexer": "ipython3",
   "version": "3.5.3"
  }
 },
 "nbformat": 4,
 "nbformat_minor": 2
}
